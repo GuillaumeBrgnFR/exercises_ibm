{
 "cells": [
  {
   "cell_type": "markdown",
   "id": "00bf2688",
   "metadata": {},
   "source": [
    "# Data Science Final Project\n",
    "\n",
    "*Final notebook generated on 2025-10-20 21:02*"
   ]
  },
  {
   "cell_type": "markdown",
   "id": "a8370629",
   "metadata": {},
   "source": [
    "## Introduction\n",
    "This notebook fulfills the final project requirements. You'll find sections for data science **languages**, **libraries**, **tools**, some **arithmetic expression examples**, and small **Python exercises**. It also includes cells to list **objectives** and the **author's name**, plus a placeholder to record your GitHub sharing link."
   ]
  },
  {
   "cell_type": "markdown",
   "id": "3fe03ac9",
   "metadata": {},
   "source": [
    "## Data Science Languages\n",
    "- Python\n",
    "- R\n",
    "- SQL\n",
    "- Scala\n",
    "- Julia\n",
    "- Java"
   ]
  },
  {
   "cell_type": "markdown",
   "id": "8b6dc473",
   "metadata": {},
   "source": [
    "## Data Science Libraries\n",
    "- **NumPy** – fast numerical computing\n",
    "- **Pandas** – data manipulation and analysis\n",
    "- **Matplotlib** / **Seaborn** – visualization\n",
    "- **scikit-learn** – machine learning\n",
    "- **TensorFlow** / **PyTorch** – deep learning\n",
    "- **Spark MLlib** – distributed ML on big data"
   ]
  },
  {
   "cell_type": "markdown",
   "id": "2aca624c",
   "metadata": {},
   "source": [
    "## Data Science Tools\n",
    "| Tool | Category | Typical Use |\n",
    "|---|---|---|\n",
    "| Jupyter Notebook | IDE/Notebook | Interactive coding & reporting |\n",
    "| RStudio | IDE | R development & analysis |\n",
    "| VS Code | IDE | General-purpose development |\n",
    "| Apache Spark | Compute Engine | Distributed data processing/ML |\n",
    "| Apache Airflow | Orchestration | Workflow scheduling for ETL/ELT |\n",
    "| Git & GitHub | Version Control | Collaboration and CI/CD hooks |\n",
    "| Tableau | BI/Visualization | Dashboards and visual analytics |\n",
    "| Power BI | BI/Visualization | Business reporting |\n"
   ]
  },
  {
   "cell_type": "markdown",
   "id": "d8258dbb",
   "metadata": {},
   "source": [
    "## Arithmetic Expression Examples\n",
    "Below are simple arithmetic expressions in Python to demonstrate multiplication, addition, and unit conversion."
   ]
  },
  {
   "cell_type": "code",
   "execution_count": 1,
   "id": "19877ff0",
   "metadata": {},
   "outputs": [
    {
     "name": "stdout",
     "output_type": "stream",
     "text": [
      "Result of (3 * 4) + 5 = 17\n"
     ]
    }
   ],
   "source": [
    "# Exercise 8: Multiply and add numbers\n",
    "# Compute (3 * 4) + 5\n",
    "result = (3 * 4) + 5\n",
    "print(\"Result of (3 * 4) + 5 =\", result)"
   ]
  },
  {
   "cell_type": "code",
   "execution_count": 2,
   "id": "4b4f584d",
   "metadata": {},
   "outputs": [
    {
     "name": "stdout",
     "output_type": "stream",
     "text": [
      "200 minutes equals 3.3333333333333335 hours\n",
      "= 3 hour(s) and 20 minute(s)\n"
     ]
    }
   ],
   "source": [
    "# Exercise 9: Convert minutes to hours\n",
    "minutes = 200\n",
    "hours = minutes / 60\n",
    "print(f\"{minutes} minutes equals {hours} hours\")\n",
    "\n",
    "# Optional: show hours and remaining minutes\n",
    "full_hours = minutes // 60\n",
    "remaining_minutes = minutes % 60\n",
    "print(f\"= {full_hours} hour(s) and {remaining_minutes} minute(s)\")"
   ]
  },
  {
   "cell_type": "markdown",
   "id": "171fc3cb",
   "metadata": {},
   "source": [
    "## Objectives\n",
    "- List popular **data science languages** and **libraries**  \n",
    "- Present a **table of common tools** used in data science  \n",
    "- Demonstrate **basic arithmetic** in Python  \n",
    "- Perform a **unit conversion** (minutes → hours)  \n",
    "- Record a link to the **GitHub**-shared notebook  \n"
   ]
  },
  {
   "cell_type": "markdown",
   "id": "20e7d24a",
   "metadata": {},
   "source": [
    "## Author\n",
    "**Guillaume Bourgeon**"
   ]
  }
 ],
 "metadata": {
  "kernelspec": {
   "display_name": "Python 3",
   "language": "python",
   "name": "python3"
  },
  "language_info": {
   "codemirror_mode": {
    "name": "ipython",
    "version": 3
   },
   "file_extension": ".py",
   "mimetype": "text/x-python",
   "name": "python",
   "nbconvert_exporter": "python",
   "pygments_lexer": "ipython3",
   "version": "3.9.21"
  }
 },
 "nbformat": 4,
 "nbformat_minor": 5
}
